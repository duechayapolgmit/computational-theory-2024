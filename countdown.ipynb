{
 "cells": [
  {
   "cell_type": "markdown",
   "metadata": {},
   "source": [
    "# Countdown (Numbers round)\n",
    "\n",
    "*By Chayapol \"Due\" Hongsrimuang (G00388741)*\n",
    "\n",
    "---"
   ]
  },
  {
   "cell_type": "markdown",
   "metadata": {},
   "source": [
    "# Introduction\n",
    "*Countdown* is a television programme in Channel 4. It is based on a French version of the programme *Des chiffres et das lettres* (translated to Numbers and letters) and has been running since November 2, 1982, when the channel is launched.\n",
    "\n",
    "One of the rounds that are played in the programme is the **Numbers round**, where contestants are given 6 random numbers and have to use them to try and reach a randomly-generated target. (from 101-999, inclusive)"
   ]
  },
  {
   "cell_type": "code",
   "execution_count": 24,
   "metadata": {},
   "outputs": [
    {
     "data": {
      "text/plain": [
       "987"
      ]
     },
     "execution_count": 24,
     "metadata": {},
     "output_type": "execute_result"
    }
   ],
   "source": [
    "# Generating the target\n",
    "import math, random\n",
    "\n",
    "target = math.floor(random.random() * 1000)\n",
    "target"
   ]
  },
  {
   "cell_type": "markdown",
   "metadata": {},
   "source": [
    "The 6 random numbers are selected by the contestants from a pool of small and large numbers. Contestants can choose from 2 sets of small numbers (1-10) and a set of large numbers. (25, 50, 75, 100)"
   ]
  },
  {
   "cell_type": "code",
   "execution_count": 25,
   "metadata": {},
   "outputs": [
    {
     "data": {
      "text/plain": [
       "[1, 2, 3, 4, 5, 6, 7, 8, 9, 10, 1, 2, 3, 4, 5, 6, 7, 8, 9, 10, 25, 50, 75, 100]"
      ]
     },
     "execution_count": 25,
     "metadata": {},
     "output_type": "execute_result"
    }
   ],
   "source": [
    "# Declaring the pool of numbers that can be selected\n",
    "small_numbers = [number for number in range(1, 11)]     # 1, 2, 3, 4, 5, 6, 7, 8, 9, 10\n",
    "big_numbers = [number * 25 for number in range(1, 5)]   # 25, 50, 75, 100 (multiples of 4)\n",
    "\n",
    "numbers_pool = small_numbers + small_numbers + big_numbers\n",
    "numbers_pool"
   ]
  },
  {
   "cell_type": "code",
   "execution_count": 26,
   "metadata": {},
   "outputs": [
    {
     "data": {
      "text/plain": [
       "[10, 3, 8, 7, 3, 1]"
      ]
     },
     "execution_count": 26,
     "metadata": {},
     "output_type": "execute_result"
    }
   ],
   "source": [
    "# Generating 6 random numbers from the pool\n",
    "import math, random\n",
    "\n",
    "def get_numbers(pool):\n",
    "    num_pool = pool.copy()\n",
    "    chosen_numbers = []\n",
    "    for i in range(1, 7):\n",
    "        random_index = math.floor(random.random() * len(num_pool))  # Get the index of random number to be chosen\n",
    "        chosen_numbers.append(num_pool[random_index])               # Append that number to the list\n",
    "        num_pool.remove(num_pool[random_index])                     # Remove the number from the pool\n",
    "    return chosen_numbers\n",
    "\n",
    "numbers = get_numbers(numbers_pool)\n",
    "numbers"
   ]
  },
  {
   "cell_type": "markdown",
   "metadata": {},
   "source": [
    "With those numbers, contestants would be given 30 seconds to use those numbers and try to reach the target. They are only allowed to use basic mathematical operations (addition, subtraction, multiplication, and division) and no fractions are allowed in the case of divisions."
   ]
  },
  {
   "cell_type": "markdown",
   "metadata": {},
   "source": [
    "# Algorithm"
   ]
  },
  {
   "cell_type": "code",
   "execution_count": null,
   "metadata": {},
   "outputs": [],
   "source": [
    "\n"
   ]
  },
  {
   "cell_type": "code",
   "execution_count": 47,
   "metadata": {},
   "outputs": [
    {
     "name": "stdout",
     "output_type": "stream",
     "text": [
      "13\n",
      "7\n",
      "30\n",
      "18\n",
      "2\n",
      "80\n",
      "17\n",
      "3\n",
      "70\n",
      "13\n",
      "7\n",
      "30\n",
      "11\n",
      "9\n",
      "10\n",
      "10.0\n",
      "13\n",
      "-7\n",
      "30\n",
      "11\n",
      "-5\n",
      "24\n",
      "10\n",
      "-4\n",
      "21\n",
      "6\n",
      "0\n",
      "9\n",
      "1.0\n",
      "4\n",
      "2\n",
      "3\n",
      "3.0\n",
      "18\n",
      "-2\n",
      "80\n",
      "11\n",
      "5\n",
      "24\n",
      "15\n",
      "1\n",
      "56\n",
      "11\n",
      "5\n",
      "24\n",
      "9\n",
      "7\n",
      "8\n",
      "8.0\n",
      "17\n",
      "-3\n",
      "70\n",
      "10\n",
      "4\n",
      "21\n",
      "15\n",
      "-1\n",
      "56\n",
      "10\n",
      "4\n",
      "21\n",
      "8\n",
      "6\n",
      "7\n",
      "7.0\n",
      "13\n",
      "-7\n",
      "30\n",
      "6\n",
      "0\n",
      "9\n",
      "1.0\n",
      "11\n",
      "-5\n",
      "24\n",
      "10\n",
      "-4\n",
      "21\n",
      "4\n",
      "2\n",
      "3\n",
      "3.0\n",
      "11\n",
      "-9\n",
      "10\n",
      "4\n",
      "-2\n",
      "3\n",
      "9\n",
      "-7\n",
      "8\n",
      "8\n",
      "-6\n",
      "7\n",
      "4\n",
      "-2\n",
      "3\n"
     ]
    }
   ],
   "source": [
    "from itertools import permutations \n",
    "\n",
    "# Get permutations from values\n",
    "list_of_permutations = list(permutations(numbers, 2))\n",
    "\n",
    "# Iterate through each set\n",
    "for the_set in list_of_permutations:\n",
    "    print(the_set[0] + the_set[1])\n",
    "    print(the_set[0] - the_set[1])\n",
    "    print(the_set[0] * the_set[1])\n",
    "    \n",
    "    # Print the division, if there's no remainder\n",
    "    division = the_set[0] / the_set[1]\n",
    "    if (the_set[0] % the_set[1] == 0):\n",
    "        print(division)"
   ]
  },
  {
   "cell_type": "code",
   "execution_count": 29,
   "metadata": {},
   "outputs": [
    {
     "data": {
      "text/plain": [
       "0"
      ]
     },
     "execution_count": 29,
     "metadata": {},
     "output_type": "execute_result"
    }
   ],
   "source": [
    "def solve_numbers(num_array, target):\n",
    "\n",
    "    return 0\n",
    "\n",
    "solve_numbers(numbers, target)"
   ]
  },
  {
   "cell_type": "markdown",
   "metadata": {},
   "source": [
    "---\n",
    "End"
   ]
  }
 ],
 "metadata": {
  "kernelspec": {
   "display_name": "Python 3",
   "language": "python",
   "name": "python3"
  },
  "language_info": {
   "codemirror_mode": {
    "name": "ipython",
    "version": 3
   },
   "file_extension": ".py",
   "mimetype": "text/x-python",
   "name": "python",
   "nbconvert_exporter": "python",
   "pygments_lexer": "ipython3",
   "version": "3.11.1"
  }
 },
 "nbformat": 4,
 "nbformat_minor": 2
}
