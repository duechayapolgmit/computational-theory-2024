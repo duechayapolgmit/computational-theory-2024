{
 "cells": [
  {
   "cell_type": "markdown",
   "metadata": {},
   "source": [
    "# Countdown (Numbers round)\n",
    "\n",
    "*By Chayapol \"Due\" Hongsrimuang (G00388741)*\n",
    "\n",
    "---"
   ]
  },
  {
   "cell_type": "markdown",
   "metadata": {},
   "source": [
    "# Introduction\n",
    "*Countdown* is a television programme in Channel 4. It is based on a French version of the programme *Des chiffres et das lettres* (translated to Numbers and letters) and has been running since November 2, 1982, when the channel is launched.\n",
    "\n",
    "One of the rounds that are played in the programme is the **Numbers round**, where contestants are given 6 random numbers and have to use them to try and reach a randomly-generated target. (from 101-999, inclusive)"
   ]
  },
  {
   "cell_type": "code",
   "execution_count": 2,
   "metadata": {},
   "outputs": [
    {
     "data": {
      "text/plain": [
       "980"
      ]
     },
     "execution_count": 2,
     "metadata": {},
     "output_type": "execute_result"
    }
   ],
   "source": [
    "# Generating the target\n",
    "import math, random\n",
    "\n",
    "target = math.floor(random.random() * 1000)\n",
    "target"
   ]
  },
  {
   "cell_type": "markdown",
   "metadata": {},
   "source": [
    "The 6 random numbers are selected by the contestants from a pool of small and large numbers. Contestants can choose from 2 sets of small numbers (1-10) and a set of large numbers. (25, 50, 75, 100)"
   ]
  },
  {
   "cell_type": "code",
   "execution_count": 3,
   "metadata": {},
   "outputs": [
    {
     "data": {
      "text/plain": [
       "[1, 2, 3, 4, 5, 6, 7, 8, 9, 10, 1, 2, 3, 4, 5, 6, 7, 8, 9, 10, 25, 50, 75, 100]"
      ]
     },
     "execution_count": 3,
     "metadata": {},
     "output_type": "execute_result"
    }
   ],
   "source": [
    "# Declaring the pool of numbers that can be selected\n",
    "small_numbers = [number for number in range(1, 11)]     # 1, 2, 3, 4, 5, 6, 7, 8, 9, 10\n",
    "big_numbers = [number * 25 for number in range(1, 5)]   # 25, 50, 75, 100 (multiples of 4)\n",
    "\n",
    "numbers_pool = small_numbers + small_numbers + big_numbers\n",
    "numbers_pool"
   ]
  },
  {
   "cell_type": "code",
   "execution_count": 4,
   "metadata": {},
   "outputs": [
    {
     "data": {
      "text/plain": [
       "[6, 50, 25, 10, 2, 6]"
      ]
     },
     "execution_count": 4,
     "metadata": {},
     "output_type": "execute_result"
    }
   ],
   "source": [
    "# Generating 6 random numbers from the pool\n",
    "import math, random\n",
    "\n",
    "def get_numbers(pool):\n",
    "    num_pool = pool.copy()\n",
    "    chosen_numbers = []\n",
    "    for i in range(1, 7):\n",
    "        random_index = math.floor(random.random() * len(num_pool))  # Get the index of random number to be chosen\n",
    "        chosen_numbers.append(num_pool[random_index])               # Append that number to the list\n",
    "        num_pool.remove(num_pool[random_index])                     # Remove the number from the pool\n",
    "    return chosen_numbers\n",
    "\n",
    "numbers = get_numbers(numbers_pool)\n",
    "numbers"
   ]
  },
  {
   "cell_type": "markdown",
   "metadata": {},
   "source": [
    "With those numbers, contestants would be given 30 seconds to use those numbers and try to reach the target. They are only allowed to use basic mathematical operations (addition, subtraction, multiplication, and division) and no fractions are allowed in the case of divisions."
   ]
  },
  {
   "cell_type": "markdown",
   "metadata": {},
   "source": [
    "# Algorithm"
   ]
  },
  {
   "cell_type": "code",
   "execution_count": null,
   "metadata": {},
   "outputs": [],
   "source": [
    "\n"
   ]
  },
  {
   "cell_type": "code",
   "execution_count": 39,
   "metadata": {},
   "outputs": [
    {
     "name": "stdout",
     "output_type": "stream",
     "text": [
      "pog\n",
      "pog\n",
      "pog\n",
      "pog\n"
     ]
    }
   ],
   "source": [
    "from itertools import permutations\n",
    "import operator # from https://www.ttested.com/polish-countdown/\n",
    "\n",
    "# Operations - from https://www.ttested.com/polish-countdown/\n",
    "operators = [operator.add, operator.sub, operator.mul, operator.floordiv]\n",
    "\n",
    "\n",
    "# Get permutations from values\n",
    "list_of_permutations = list(permutations(numbers, 2))\n",
    "\n",
    "# Make operation for each four results\n",
    "def one_operation(arr_res, num):\n",
    "    arr_result = []\n",
    "    \n",
    "    for op in operators:\n",
    "        for num_in_array in arr_res:\n",
    "            if op == operator.floordiv:\n",
    "                if num_in_array % num == 0: # only append if no remainder\n",
    "                    arr_result.append(op(num_in_array, num)) \n",
    "            else:\n",
    "                arr_result.append(op(num_in_array, num))\n",
    "\n",
    "    return arr_result\n",
    "\n",
    "# Iterate through each set\n",
    "for the_set in list_of_permutations:\n",
    "    #print(\"NEW ONE\")\n",
    "    temp_array = numbers.copy()\n",
    "\n",
    "    results = []\n",
    "    final_results = []\n",
    "    results.append(the_set[0] + the_set[1])\n",
    "    results.append(the_set[0] - the_set[1])\n",
    "    results.append(the_set[0] * the_set[1])\n",
    "    \n",
    "    if the_set[0] % the_set[1] == 0: # only append if no remainder\n",
    "        results.append(the_set[0] / the_set[1])\n",
    "\n",
    "    #print(results)\n",
    "\n",
    "    # Remove the numbers\n",
    "    temp_array.remove(the_set[0])\n",
    "    temp_array.remove(the_set[1])\n",
    "\n",
    "    #print(\"NUM 2 OPERATION\")\n",
    "    for num2 in temp_array:\n",
    "        results2 = one_operation(results, num2)\n",
    "        #print(results2)\n",
    "        temp_array2 = temp_array.copy()\n",
    "        temp_array2.remove(num2)\n",
    "        #print(temp_array2)\n",
    "\n",
    "        #print(\"NUM 3 OPERATION\")\n",
    "        for num3 in temp_array2:\n",
    "            results3 = one_operation(results2, num3)\n",
    "            #print(results3)\n",
    "            temp_array3 = temp_array2.copy()\n",
    "            temp_array3.remove(num3)\n",
    "\n",
    "            #print(\"NUM 4 OPERATION\")\n",
    "            for num4 in temp_array3:\n",
    "                results4 = one_operation(results3, num4)\n",
    "                #print(results4)\n",
    "                temp_array4 = temp_array3.copy()\n",
    "                temp_array4.remove(num4)\n",
    "\n",
    "                #print(\"NUM 5 OPERATION - LAST ONE\")\n",
    "                for num5 in temp_array4:\n",
    "                    final_results = one_operation(results4, num5)\n",
    "    \n",
    "    for result in final_results:\n",
    "        if (result == target):\n",
    "            print(\"GET!\")\n",
    "\n"
   ]
  },
  {
   "cell_type": "code",
   "execution_count": null,
   "metadata": {},
   "outputs": [
    {
     "data": {
      "text/plain": [
       "0"
      ]
     },
     "execution_count": 29,
     "metadata": {},
     "output_type": "execute_result"
    }
   ],
   "source": [
    "def solve_numbers(num_array, target):\n",
    "\n",
    "    return 0\n",
    "\n",
    "solve_numbers(numbers, target)"
   ]
  },
  {
   "cell_type": "markdown",
   "metadata": {},
   "source": [
    "---\n",
    "End"
   ]
  }
 ],
 "metadata": {
  "kernelspec": {
   "display_name": "Python 3",
   "language": "python",
   "name": "python3"
  },
  "language_info": {
   "codemirror_mode": {
    "name": "ipython",
    "version": 3
   },
   "file_extension": ".py",
   "mimetype": "text/x-python",
   "name": "python",
   "nbconvert_exporter": "python",
   "pygments_lexer": "ipython3",
   "version": "3.12.0"
  }
 },
 "nbformat": 4,
 "nbformat_minor": 2
}
